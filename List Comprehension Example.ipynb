{
 "cells": [
  {
   "cell_type": "code",
   "execution_count": 70,
   "metadata": {},
   "outputs": [],
   "source": [
    "# Small example to understand List Comprehension\n",
    "# List Comprehension is a method to create/append information to a list\n",
    "# Sometimes we need to fill in a list where each item is an result of some operations.\n"
   ]
  },
  {
   "cell_type": "code",
   "execution_count": 71,
   "metadata": {},
   "outputs": [],
   "source": [
    "# Problem: You have one list with 6 numbers. You have to iterate through the list and dump the values into a new list.\n",
    "# Condition is for even number do square and for odd number put the cube'd value\n",
    "import time"
   ]
  },
  {
   "cell_type": "code",
   "execution_count": 72,
   "metadata": {},
   "outputs": [
    {
     "name": "stdout",
     "output_type": "stream",
     "text": [
      "0.0\n",
      "[1, 125, 400, 100, 3375, 15625]\n"
     ]
    }
   ],
   "source": [
    "number = [1,5,20,10,15,25]\n",
    "number_sq = []\n",
    "d1 = time.time()\n",
    "# 1 Method by using for loop and if statements\n",
    "\n",
    "for n in number:\n",
    "    if n%2 == 0:\n",
    "        number_sq.append(n*n)\n",
    "    else:\n",
    "        number_sq.append(n*n*n)\n",
    "d2 = time.time()\n",
    "print(d2-d1)\n",
    "print(number_sq)"
   ]
  },
  {
   "cell_type": "code",
   "execution_count": 74,
   "metadata": {},
   "outputs": [
    {
     "name": "stdout",
     "output_type": "stream",
     "text": [
      "0.0\n",
      "[1, 125, 400, 100, 3375, 15625]\n"
     ]
    }
   ],
   "source": [
    "# 2nd Method using List Comprehension\n",
    "d1 = time.time()\n",
    "number_sq = [n*n if n%2==0 else n*n*n for n in number]\n",
    "d2 = time.time()\n",
    "print(d2-d1)\n",
    "print(number_sq)\n"
   ]
  },
  {
   "cell_type": "code",
   "execution_count": 75,
   "metadata": {},
   "outputs": [],
   "source": [
    "#Practice"
   ]
  },
  {
   "cell_type": "code",
   "execution_count": 76,
   "metadata": {},
   "outputs": [],
   "source": [
    "# Another Example - write code to append 007 to the end of each list item and dump it into a new one"
   ]
  },
  {
   "cell_type": "code",
   "execution_count": 77,
   "metadata": {},
   "outputs": [],
   "source": [
    "list_string = ['Octopussy','Die Another Day', 'Doctor No', 'Casino Royale']\n",
    "list_append = []\n",
    "\n",
    "# function that appends '_007' at the end of text for odd index value, and '007_' at even index value\n",
    "\n",
    "def AppendOdd(w):\n",
    "    return(w+'_007')\n",
    "\n",
    "def AppendEven(w):\n",
    "    return('007_'+w)\n",
    "\n"
   ]
  },
  {
   "cell_type": "code",
   "execution_count": 78,
   "metadata": {},
   "outputs": [
    {
     "name": "stdout",
     "output_type": "stream",
     "text": [
      "['Octopussy_007', '007_Die Another Day', 'Doctor No_007', '007_Casino Royale']\n"
     ]
    }
   ],
   "source": [
    "# Method 1 by for loop and if else\n",
    "list_append = []\n",
    "d1 = time.time()\n",
    "for l in list_string:\n",
    "    if (list_string.index(l))%2 == 0:\n",
    "        list_append.append(AppendOdd(l))\n",
    "    else:\n",
    "        list_append.append(AppendEven(l))\n",
    "\n",
    "print(list_append)"
   ]
  },
  {
   "cell_type": "code",
   "execution_count": 79,
   "metadata": {
    "scrolled": true
   },
   "outputs": [
    {
     "name": "stdout",
     "output_type": "stream",
     "text": [
      "['Octopussy_007', '007_Die Another Day', 'Doctor No_007', '007_Casino Royale']\n"
     ]
    }
   ],
   "source": [
    "# Method 2 by list Comprehension\n",
    "\n",
    "list_append = [AppendOdd(l) if list_string.index(l)%2==0 else AppendEven(l) for l in list_string]\n",
    "d2 = time.time()\n",
    "print(list_append)"
   ]
  },
  {
   "cell_type": "code",
   "execution_count": null,
   "metadata": {},
   "outputs": [],
   "source": []
  },
  {
   "cell_type": "code",
   "execution_count": null,
   "metadata": {},
   "outputs": [],
   "source": []
  }
 ],
 "metadata": {
  "kernelspec": {
   "display_name": "Python 3",
   "language": "python",
   "name": "python3"
  },
  "language_info": {
   "codemirror_mode": {
    "name": "ipython",
    "version": 3
   },
   "file_extension": ".py",
   "mimetype": "text/x-python",
   "name": "python",
   "nbconvert_exporter": "python",
   "pygments_lexer": "ipython3",
   "version": "3.7.1"
  }
 },
 "nbformat": 4,
 "nbformat_minor": 2
}
